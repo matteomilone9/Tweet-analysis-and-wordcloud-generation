{
 "cells": [
  {
   "cell_type": "code",
   "execution_count": null,
   "id": "0693a739-d776-427d-a774-9a94c80bc1a6",
   "metadata": {
    "tags": []
   },
   "outputs": [],
   "source": [
    "###AVVIO DEI DUE FILE.PY IN LOOP CON PAUSA DI 1MINUTO\n",
    "import time\n",
    "while True:\n",
    "    %run streamgithub.py\n",
    "    %run plotgithub.py\n",
    "    time.sleep(60) #1 minuto di pausa"
   ]
  }
 ],
 "metadata": {
  "kernelspec": {
   "display_name": "Python 3 (ipykernel)",
   "language": "python",
   "name": "python3"
  },
  "language_info": {
   "codemirror_mode": {
    "name": "ipython",
    "version": 3
   },
   "file_extension": ".py",
   "mimetype": "text/x-python",
   "name": "python",
   "nbconvert_exporter": "python",
   "pygments_lexer": "ipython3",
   "version": "3.10.9"
  }
 },
 "nbformat": 4,
 "nbformat_minor": 5
}
